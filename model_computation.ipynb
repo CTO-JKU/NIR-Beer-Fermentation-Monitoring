{
 "cells": [
  {
   "cell_type": "code",
   "execution_count": 7,
   "id": "79b49f8f",
   "metadata": {},
   "outputs": [],
   "source": [
    "using Revise\n",
    "using NIRBeer"
   ]
  },
  {
   "cell_type": "code",
   "execution_count": 8,
   "id": "d7f57e8e",
   "metadata": {},
   "outputs": [
    {
     "data": {
      "text/plain": [
       "4"
      ]
     },
     "metadata": {},
     "output_type": "display_data"
    }
   ],
   "source": [
    "NIRBeer.add_two(2)"
   ]
  },
  {
   "cell_type": "code",
   "execution_count": 9,
   "id": "9df69405",
   "metadata": {},
   "outputs": [
    {
     "data": {
      "text/plain": [
       "8"
      ]
     },
     "metadata": {},
     "output_type": "display_data"
    }
   ],
   "source": [
    "NIRBeer.add_two_helper(5)"
   ]
  }
 ],
 "metadata": {
  "kernelspec": {
   "display_name": "Julia 1.11.5",
   "language": "julia",
   "name": "julia-1.11"
  },
  "language_info": {
   "file_extension": ".jl",
   "mimetype": "application/julia",
   "name": "julia",
   "version": "1.11.5"
  }
 },
 "nbformat": 4,
 "nbformat_minor": 5
}
